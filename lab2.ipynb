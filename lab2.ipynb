{
 "cells": [
  {
   "cell_type": "markdown",
   "id": "304bdaee",
   "metadata": {},
   "source": [
    "### ЛАБОРАТОРНА РОБОТА 2"
   ]
  },
  {
   "cell_type": "markdown",
   "id": "1f9139df",
   "metadata": {},
   "source": [
    "#### 1. Вибір задачі та датасету"
   ]
  },
  {
   "cell_type": "markdown",
   "id": "063b7738",
   "metadata": {},
   "source": [
    "https://huggingface.co/datasets/Helsinki-NLP/opus-100"
   ]
  },
  {
   "cell_type": "code",
   "execution_count": 1,
   "id": "8f4f57f3",
   "metadata": {},
   "outputs": [
    {
     "name": "stdout",
     "output_type": "stream",
     "text": [
      "Loading en-fr...\n",
      "Loading en-fi...\n",
      "Loading ar-en...\n",
      "Loading en-hi...\n",
      "Loading en-zh...\n"
     ]
    }
   ],
   "source": [
    "from datasets import load_dataset\n",
    "import pandas as pd\n",
    "\n",
    "language_pairs = [\"en-fr\", \"en-fi\", \"ar-en\", \"en-hi\", \"en-zh\"]\n",
    "subset_size = 1000  # number of training samples per pair\n",
    "\n",
    "data = pd.DataFrame()\n",
    "\n",
    "for pair in language_pairs:\n",
    "    print(f\"Loading {pair}...\")\n",
    "    ds = load_dataset(\"Helsinki-NLP/opus-100\", pair, split=f\"train[:{subset_size}]\")\n",
    "    data[pair] = ds['translation']\n"
   ]
  },
  {
   "cell_type": "markdown",
   "id": "2f777bd9",
   "metadata": {},
   "source": [
    "#### 2. Аналіз даних та метрик"
   ]
  },
  {
   "cell_type": "code",
   "execution_count": 2,
   "id": "3b8cc80a",
   "metadata": {},
   "outputs": [
    {
     "data": {
      "text/html": [
       "<div>\n",
       "<style scoped>\n",
       "    .dataframe tbody tr th:only-of-type {\n",
       "        vertical-align: middle;\n",
       "    }\n",
       "\n",
       "    .dataframe tbody tr th {\n",
       "        vertical-align: top;\n",
       "    }\n",
       "\n",
       "    .dataframe thead th {\n",
       "        text-align: right;\n",
       "    }\n",
       "</style>\n",
       "<table border=\"1\" class=\"dataframe\">\n",
       "  <thead>\n",
       "    <tr style=\"text-align: right;\">\n",
       "      <th></th>\n",
       "      <th>en-fr</th>\n",
       "      <th>en-fi</th>\n",
       "      <th>ar-en</th>\n",
       "      <th>en-hi</th>\n",
       "      <th>en-zh</th>\n",
       "    </tr>\n",
       "  </thead>\n",
       "  <tbody>\n",
       "    <tr>\n",
       "      <th>count</th>\n",
       "      <td>1000</td>\n",
       "      <td>1000</td>\n",
       "      <td>1000</td>\n",
       "      <td>1000</td>\n",
       "      <td>1000</td>\n",
       "    </tr>\n",
       "    <tr>\n",
       "      <th>unique</th>\n",
       "      <td>985</td>\n",
       "      <td>981</td>\n",
       "      <td>992</td>\n",
       "      <td>994</td>\n",
       "      <td>995</td>\n",
       "    </tr>\n",
       "    <tr>\n",
       "      <th>top</th>\n",
       "      <td>{'en': 'Thank you.', 'fr': 'Merci.'}</td>\n",
       "      <td>{'en': 'Thank you.', 'fi': 'Kiitos.'}</td>\n",
       "      <td>{'ar': 'حسناً؟', 'en': 'Okay?'}</td>\n",
       "      <td>{'en': 'Failed to decrypt MIME part: protocol ...</td>\n",
       "      <td>{'en': 'Introduction', 'zh': '一. 导言'}</td>\n",
       "    </tr>\n",
       "    <tr>\n",
       "      <th>freq</th>\n",
       "      <td>6</td>\n",
       "      <td>7</td>\n",
       "      <td>5</td>\n",
       "      <td>2</td>\n",
       "      <td>4</td>\n",
       "    </tr>\n",
       "  </tbody>\n",
       "</table>\n",
       "</div>"
      ],
      "text/plain": [
       "                                       en-fr  \\\n",
       "count                                   1000   \n",
       "unique                                   985   \n",
       "top     {'en': 'Thank you.', 'fr': 'Merci.'}   \n",
       "freq                                       6   \n",
       "\n",
       "                                        en-fi  \\\n",
       "count                                    1000   \n",
       "unique                                    981   \n",
       "top     {'en': 'Thank you.', 'fi': 'Kiitos.'}   \n",
       "freq                                        7   \n",
       "\n",
       "                                  ar-en  \\\n",
       "count                              1000   \n",
       "unique                              992   \n",
       "top     {'ar': 'حسناً؟', 'en': 'Okay?'}   \n",
       "freq                                  5   \n",
       "\n",
       "                                                    en-hi  \\\n",
       "count                                                1000   \n",
       "unique                                                994   \n",
       "top     {'en': 'Failed to decrypt MIME part: protocol ...   \n",
       "freq                                                    2   \n",
       "\n",
       "                                        en-zh  \n",
       "count                                    1000  \n",
       "unique                                    995  \n",
       "top     {'en': 'Introduction', 'zh': '一. 导言'}  \n",
       "freq                                        4  "
      ]
     },
     "execution_count": 2,
     "metadata": {},
     "output_type": "execute_result"
    }
   ],
   "source": [
    "data.describe()"
   ]
  },
  {
   "cell_type": "code",
   "execution_count": 3,
   "id": "caf3a3ef",
   "metadata": {},
   "outputs": [
    {
     "name": "stdout",
     "output_type": "stream",
     "text": [
      "<class 'pandas.core.frame.DataFrame'>\n",
      "RangeIndex: 1000 entries, 0 to 999\n",
      "Data columns (total 5 columns):\n",
      " #   Column  Non-Null Count  Dtype \n",
      "---  ------  --------------  ----- \n",
      " 0   en-fr   1000 non-null   object\n",
      " 1   en-fi   1000 non-null   object\n",
      " 2   ar-en   1000 non-null   object\n",
      " 3   en-hi   1000 non-null   object\n",
      " 4   en-zh   1000 non-null   object\n",
      "dtypes: object(5)\n",
      "memory usage: 39.2+ KB\n"
     ]
    }
   ],
   "source": [
    "data.info()"
   ]
  },
  {
   "cell_type": "code",
   "execution_count": 4,
   "id": "53f571e7",
   "metadata": {},
   "outputs": [
    {
     "data": {
      "text/plain": [
       "en-fr    0\n",
       "en-fi    0\n",
       "ar-en    0\n",
       "en-hi    0\n",
       "en-zh    0\n",
       "dtype: int64"
      ]
     },
     "execution_count": 4,
     "metadata": {},
     "output_type": "execute_result"
    }
   ],
   "source": [
    "data.isnull().sum()"
   ]
  },
  {
   "cell_type": "code",
   "execution_count": 5,
   "id": "e0b6e772",
   "metadata": {},
   "outputs": [],
   "source": [
    "from sklearn.model_selection import train_test_split\n",
    "\n",
    "\n",
    "train_df, val_df = train_test_split(data, test_size=0.2)\n",
    "train_df = train_df.reset_index(drop=True)\n",
    "val_df = val_df.reset_index(drop=True)"
   ]
  },
  {
   "cell_type": "markdown",
   "id": "02124900",
   "metadata": {},
   "source": [
    "Метрики для оцінки моделей"
   ]
  },
  {
   "cell_type": "code",
   "execution_count": 6,
   "id": "7d4dea47",
   "metadata": {},
   "outputs": [
    {
     "name": "stdout",
     "output_type": "stream",
     "text": [
      "chrF: {'score': 84.64214891738334, 'char_order': 6, 'word_order': 0, 'beta': 2}\n",
      "chrF++: {'score': 82.87263732906315, 'char_order': 6, 'word_order': 2, 'beta': 2}\n"
     ]
    }
   ],
   "source": [
    "from evaluate import load\n",
    "\n",
    "prediction = [\"The relationship between cats and dogs is not exactly friendly.\", \"a good bookshop is just a genteel black hole that knows how to read.\"]\n",
    "reference = [[\"The relationship between dogs and cats is not exactly friendly.\", ], [\"A good bookshop is just a genteel Black Hole that knows how to read.\"]]\n",
    "\n",
    "chrf = load(\"chrf\")\n",
    "# chrF (character n-grams) - word_order=0, chrF++ (char + word n-grams) - word_order=2.\n",
    "chrf_results = chrf.compute(predictions=prediction, references=reference)\n",
    "chrfplus_results = chrf.compute(predictions=prediction, references=reference, word_order=2)\n",
    "\n",
    "print('chrF:', chrf_results)\n",
    "print('chrF++:', chrfplus_results)"
   ]
  },
  {
   "cell_type": "code",
   "execution_count": 7,
   "id": "b4a356a5",
   "metadata": {},
   "outputs": [
    {
     "name": "stdout",
     "output_type": "stream",
     "text": [
      "en-fr BLEU: 0.31\n",
      "en-ar BLEU: 0.44\n",
      "en-zh BLEU: 0.00\n",
      "\n",
      "Macro-Averaged BLEU: 0.25\n"
     ]
    }
   ],
   "source": [
    "from evaluate import load\n",
    "import numpy as np\n",
    "\n",
    "#B ilingual Evaluation Understudy\n",
    "bleu = load(\"bleu\")\n",
    "\n",
    "data_example = {\n",
    "    \"en-fr\": {\n",
    "        \"predictions\": [\"Le temps est agréable aujourd'hui.\", \"Elle aime lire des livres.\"],\n",
    "        \"references\": [[\"Il fait beau aujourd'hui.\"], [\"Elle adore lire des livres.\"]],\n",
    "    },\n",
    "    \"en-ar\": {\n",
    "        \"predictions\": [\"الطقس جميل اليوم.\", \"هي تحب قراءة الكتب.\"],\n",
    "        \"references\": [[\"إنه يوم جميل.\"], [\"إنها تحب قراءة الكتب.\"]],\n",
    "    },\n",
    "    \"en-zh\": {\n",
    "        \"predictions\": [\"今天天气很好。\", \"她喜欢看书。\"],\n",
    "        \"references\": [[\"今天的天气很好。\"], [\"她喜欢读书。\"]],\n",
    "    }\n",
    "}\n",
    "\n",
    "scores = []\n",
    "for lang_pair, values in data_example.items():\n",
    "    result = bleu.compute(predictions=values[\"predictions\"], references=values[\"references\"])\n",
    "    print(f\"{lang_pair} BLEU: {result['bleu']:.2f}\")\n",
    "    scores.append(result[\"bleu\"])\n",
    "\n",
    "macro_avg_bleu = np.mean(scores)\n",
    "print(f\"\\nMacro-Averaged BLEU: {macro_avg_bleu:.2f}\")\n"
   ]
  },
  {
   "cell_type": "markdown",
   "id": "829b7e7c",
   "metadata": {},
   "source": [
    "Бенчмарки"
   ]
  },
  {
   "cell_type": "markdown",
   "id": "6aeb8ebd",
   "metadata": {},
   "source": [
    "#### 3. Експериментальна частина\n"
   ]
  },
  {
   "cell_type": "markdown",
   "id": "767997c8",
   "metadata": {},
   "source": [
    "Бейслайн"
   ]
  },
  {
   "cell_type": "code",
   "execution_count": null,
   "id": "77ffeaa5",
   "metadata": {},
   "outputs": [],
   "source": [
    "en_only = val_df.map(lambda x: x.get('en') if isinstance(x, dict) else None)\n",
    "en_only[:].to_csv('opus100_en_val.csv', index=False)\n",
    "\n",
    "except_en = val_df.map(lambda x: [x[d] for d in x.keys() if d != 'en'][0] if isinstance(x, dict) else None)\n",
    "except_en.to_csv('opus100_notEn_val.csv', index=False)\n",
    "print('\\n'.join(en_only['en-zh'].to_list()))"
   ]
  },
  {
   "cell_type": "code",
   "execution_count": 20,
   "id": "bf8366bb",
   "metadata": {},
   "outputs": [
    {
     "name": "stdout",
     "output_type": "stream",
     "text": [
      "chrF\n",
      " {\n",
      "    \"en-fr\": {\n",
      "        \"score\": 5.914547598876224,\n",
      "        \"char_order\": 6,\n",
      "        \"word_order\": 0,\n",
      "        \"beta\": 2\n",
      "    },\n",
      "    \"en-fi\": {\n",
      "        \"score\": 6.5802290940836174,\n",
      "        \"char_order\": 6,\n",
      "        \"word_order\": 0,\n",
      "        \"beta\": 2\n",
      "    },\n",
      "    \"ar-en\": {\n",
      "        \"score\": 7.656335102287539,\n",
      "        \"char_order\": 6,\n",
      "        \"word_order\": 0,\n",
      "        \"beta\": 2\n",
      "    },\n",
      "    \"en-hi\": {\n",
      "        \"score\": 16.184023089548692,\n",
      "        \"char_order\": 6,\n",
      "        \"word_order\": 0,\n",
      "        \"beta\": 2\n",
      "    },\n",
      "    \"en-zh\": {\n",
      "        \"score\": 13.239483280331369,\n",
      "        \"char_order\": 6,\n",
      "        \"word_order\": 0,\n",
      "        \"beta\": 2\n",
      "    }\n",
      "}\n",
      "\n",
      "chrF++\n",
      " {\n",
      "    \"en-fr\": {\n",
      "        \"score\": 5.534151523094612,\n",
      "        \"char_order\": 6,\n",
      "        \"word_order\": 2,\n",
      "        \"beta\": 2\n",
      "    },\n",
      "    \"en-fi\": {\n",
      "        \"score\": 6.055987583711977,\n",
      "        \"char_order\": 6,\n",
      "        \"word_order\": 2,\n",
      "        \"beta\": 2\n",
      "    },\n",
      "    \"ar-en\": {\n",
      "        \"score\": 7.5534628105481,\n",
      "        \"char_order\": 6,\n",
      "        \"word_order\": 2,\n",
      "        \"beta\": 2\n",
      "    },\n",
      "    \"en-hi\": {\n",
      "        \"score\": 15.170918628219148,\n",
      "        \"char_order\": 6,\n",
      "        \"word_order\": 2,\n",
      "        \"beta\": 2\n",
      "    },\n",
      "    \"en-zh\": {\n",
      "        \"score\": 12.630284934427765,\n",
      "        \"char_order\": 6,\n",
      "        \"word_order\": 2,\n",
      "        \"beta\": 2\n",
      "    }\n",
      "}\n"
     ]
    }
   ],
   "source": [
    "import json\n",
    "\n",
    "gpt_4o_mini_predicted = pd.read_csv('opus100_gpt-4o-mini_translated_to_english.csv')\n",
    "\n",
    "chrf = load(\"chrf\")\n",
    "# chrF (character n-grams) - word_order=0, chrF++ (char + word n-grams) - word_order=2.\n",
    "chrf_results = {}\n",
    "chrfplus_results = {}\n",
    "for pair in gpt_4o_mini_predicted.columns.to_list():\n",
    "    chrf_results[pair] = chrf.compute(predictions=gpt_4o_mini_predicted[pair], references=en_only[pair])\n",
    "    chrfplus_results[pair] = chrf.compute(predictions=gpt_4o_mini_predicted[pair], references=en_only[pair], word_order=2)\n",
    "\n",
    "print('chrF\\n', json.dumps(chrf_results, indent=4))\n",
    "print('\\nchrF++\\n', json.dumps(chrfplus_results, indent=4))"
   ]
  },
  {
   "cell_type": "code",
   "execution_count": 19,
   "id": "63757f27",
   "metadata": {},
   "outputs": [
    {
     "name": "stdout",
     "output_type": "stream",
     "text": [
      "Second Committee Open the gate!\n"
     ]
    }
   ],
   "source": [
    "print(gpt_4o_mini_predicted['en-fr'][0], en_only['en-fr'][0])"
   ]
  }
 ],
 "metadata": {
  "kernelspec": {
   "display_name": "pytorch",
   "language": "python",
   "name": "python3"
  },
  "language_info": {
   "codemirror_mode": {
    "name": "ipython",
    "version": 3
   },
   "file_extension": ".py",
   "mimetype": "text/x-python",
   "name": "python",
   "nbconvert_exporter": "python",
   "pygments_lexer": "ipython3",
   "version": "3.12.8"
  }
 },
 "nbformat": 4,
 "nbformat_minor": 5
}
