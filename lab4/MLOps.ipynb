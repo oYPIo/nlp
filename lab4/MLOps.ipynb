{
 "cells": [
  {
   "cell_type": "markdown",
   "id": "edb4d618",
   "metadata": {},
   "source": [
    "### ЛАБОРАТОРНА РОБОТА 4"
   ]
  },
  {
   "cell_type": "markdown",
   "id": "9cd8fed7",
   "metadata": {},
   "source": [
    "#### 1. Вибір задачі та датасету"
   ]
  },
  {
   "cell_type": "markdown",
   "id": "6102bc3b",
   "metadata": {},
   "source": [
    "Використаємо датасет та модель з лабораторної №2"
   ]
  },
  {
   "cell_type": "code",
   "execution_count": 16,
   "id": "3bd5d330",
   "metadata": {},
   "outputs": [],
   "source": [
    "from transformers import MT5Tokenizer, MT5ForConditionalGeneration, pipeline\n",
    "\n",
    "model_name = \"../lab2/models/mt5_fr2en_copy/checkpoint-500\"\n",
    "tokenizer = MT5Tokenizer.from_pretrained(model_name)\n",
    "model = MT5ForConditionalGeneration.from_pretrained(model_name)\n",
    "\n",
    "generator = pipeline(\"text2text-generation\", model=model.eval(), tokenizer=tokenizer)"
   ]
  },
  {
   "cell_type": "code",
   "execution_count": 17,
   "id": "bd33bae4",
   "metadata": {},
   "outputs": [
    {
     "data": {
      "text/plain": [
       "{'generated_text': 'Hello, how are you doing?'}"
      ]
     },
     "execution_count": 17,
     "metadata": {},
     "output_type": "execute_result"
    }
   ],
   "source": [
    "text = 'Bonjour comment allez-vous?'\n",
    "\n",
    "outputs = generator(\n",
    "    \"translate French to English: \" + text,\n",
    "    max_length=128,\n",
    "    do_sample=True,\n",
    "    temperature=0.4\n",
    ")\n",
    "outputs[0]"
   ]
  }
 ],
 "metadata": {
  "kernelspec": {
   "display_name": ".venv",
   "language": "python",
   "name": "python3"
  },
  "language_info": {
   "codemirror_mode": {
    "name": "ipython",
    "version": 3
   },
   "file_extension": ".py",
   "mimetype": "text/x-python",
   "name": "python",
   "nbconvert_exporter": "python",
   "pygments_lexer": "ipython3",
   "version": "3.11.12"
  }
 },
 "nbformat": 4,
 "nbformat_minor": 5
}
